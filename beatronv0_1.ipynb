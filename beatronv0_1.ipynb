{
  "cells": [
    {
      "cell_type": "markdown",
      "metadata": {
        "id": "Jygi-oRGOWNC"
      },
      "source": [
        "# **Install Dependencies**"
      ]
    },
    {
      "cell_type": "code",
      "execution_count": null,
      "metadata": {
        "colab": {
          "base_uri": "https://localhost:8080/"
        },
        "id": "W8bC5SJ5ORZQ",
        "outputId": "16d46298-accc-4342-9166-72b92b49899f"
      },
      "outputs": [
        {
          "output_type": "stream",
          "name": "stdout",
          "text": [
            "Collecting miditok\n",
            "  Downloading miditok-2.1.5-py3-none-any.whl (100 kB)\n",
            "\u001b[2K     \u001b[90m━━━━━━━━━━━━━━━━━━━━━━━━━━━━━━━━━━━━━━━\u001b[0m \u001b[32m100.5/100.5 kB\u001b[0m \u001b[31m2.9 MB/s\u001b[0m eta \u001b[36m0:00:00\u001b[0m\n",
            "\u001b[?25hRequirement already satisfied: numpy<1.24,>=1.19 in /usr/local/lib/python3.10/dist-packages (from miditok) (1.23.5)\n",
            "Collecting miditoolkit>=0.1.16 (from miditok)\n",
            "  Downloading miditoolkit-0.1.16-py3-none-any.whl (20 kB)\n",
            "Requirement already satisfied: tqdm in /usr/local/lib/python3.10/dist-packages (from miditok) (4.66.1)\n",
            "Collecting tokenizers>=0.13.0 (from miditok)\n",
            "  Downloading tokenizers-0.14.0-cp310-cp310-manylinux_2_17_x86_64.manylinux2014_x86_64.whl (3.8 MB)\n",
            "\u001b[2K     \u001b[90m━━━━━━━━━━━━━━━━━━━━━━━━━━━━━━━━━━━━━━━━\u001b[0m \u001b[32m3.8/3.8 MB\u001b[0m \u001b[31m22.6 MB/s\u001b[0m eta \u001b[36m0:00:00\u001b[0m\n",
            "\u001b[?25hRequirement already satisfied: scipy in /usr/local/lib/python3.10/dist-packages (from miditok) (1.11.2)\n",
            "Requirement already satisfied: matplotlib in /usr/local/lib/python3.10/dist-packages (from miditok) (3.7.1)\n",
            "Collecting mido>=1.1.16 (from miditoolkit>=0.1.16->miditok)\n",
            "  Downloading mido-1.3.0-py3-none-any.whl (50 kB)\n",
            "\u001b[2K     \u001b[90m━━━━━━━━━━━━━━━━━━━━━━━━━━━━━━━━━━━━━━━━\u001b[0m \u001b[32m50.3/50.3 kB\u001b[0m \u001b[31m7.1 MB/s\u001b[0m eta \u001b[36m0:00:00\u001b[0m\n",
            "\u001b[?25hCollecting huggingface_hub<0.17,>=0.16.4 (from tokenizers>=0.13.0->miditok)\n",
            "  Downloading huggingface_hub-0.16.4-py3-none-any.whl (268 kB)\n",
            "\u001b[2K     \u001b[90m━━━━━━━━━━━━━━━━━━━━━━━━━━━━━━━━━━━━━━\u001b[0m \u001b[32m268.8/268.8 kB\u001b[0m \u001b[31m23.9 MB/s\u001b[0m eta \u001b[36m0:00:00\u001b[0m\n",
            "\u001b[?25hRequirement already satisfied: contourpy>=1.0.1 in /usr/local/lib/python3.10/dist-packages (from matplotlib->miditok) (1.1.0)\n",
            "Requirement already satisfied: cycler>=0.10 in /usr/local/lib/python3.10/dist-packages (from matplotlib->miditok) (0.11.0)\n",
            "Requirement already satisfied: fonttools>=4.22.0 in /usr/local/lib/python3.10/dist-packages (from matplotlib->miditok) (4.42.1)\n",
            "Requirement already satisfied: kiwisolver>=1.0.1 in /usr/local/lib/python3.10/dist-packages (from matplotlib->miditok) (1.4.5)\n",
            "Requirement already satisfied: packaging>=20.0 in /usr/local/lib/python3.10/dist-packages (from matplotlib->miditok) (23.1)\n",
            "Requirement already satisfied: pillow>=6.2.0 in /usr/local/lib/python3.10/dist-packages (from matplotlib->miditok) (9.4.0)\n",
            "Requirement already satisfied: pyparsing>=2.3.1 in /usr/local/lib/python3.10/dist-packages (from matplotlib->miditok) (3.1.1)\n",
            "Requirement already satisfied: python-dateutil>=2.7 in /usr/local/lib/python3.10/dist-packages (from matplotlib->miditok) (2.8.2)\n",
            "Requirement already satisfied: filelock in /usr/local/lib/python3.10/dist-packages (from huggingface_hub<0.17,>=0.16.4->tokenizers>=0.13.0->miditok) (3.12.2)\n",
            "Requirement already satisfied: fsspec in /usr/local/lib/python3.10/dist-packages (from huggingface_hub<0.17,>=0.16.4->tokenizers>=0.13.0->miditok) (2023.6.0)\n",
            "Requirement already satisfied: requests in /usr/local/lib/python3.10/dist-packages (from huggingface_hub<0.17,>=0.16.4->tokenizers>=0.13.0->miditok) (2.31.0)\n",
            "Requirement already satisfied: pyyaml>=5.1 in /usr/local/lib/python3.10/dist-packages (from huggingface_hub<0.17,>=0.16.4->tokenizers>=0.13.0->miditok) (6.0.1)\n",
            "Requirement already satisfied: typing-extensions>=3.7.4.3 in /usr/local/lib/python3.10/dist-packages (from huggingface_hub<0.17,>=0.16.4->tokenizers>=0.13.0->miditok) (4.5.0)\n",
            "Requirement already satisfied: six>=1.5 in /usr/local/lib/python3.10/dist-packages (from python-dateutil>=2.7->matplotlib->miditok) (1.16.0)\n",
            "Requirement already satisfied: charset-normalizer<4,>=2 in /usr/local/lib/python3.10/dist-packages (from requests->huggingface_hub<0.17,>=0.16.4->tokenizers>=0.13.0->miditok) (3.2.0)\n",
            "Requirement already satisfied: idna<4,>=2.5 in /usr/local/lib/python3.10/dist-packages (from requests->huggingface_hub<0.17,>=0.16.4->tokenizers>=0.13.0->miditok) (3.4)\n",
            "Requirement already satisfied: urllib3<3,>=1.21.1 in /usr/local/lib/python3.10/dist-packages (from requests->huggingface_hub<0.17,>=0.16.4->tokenizers>=0.13.0->miditok) (2.0.4)\n",
            "Requirement already satisfied: certifi>=2017.4.17 in /usr/local/lib/python3.10/dist-packages (from requests->huggingface_hub<0.17,>=0.16.4->tokenizers>=0.13.0->miditok) (2023.7.22)\n",
            "Installing collected packages: mido, miditoolkit, huggingface_hub, tokenizers, miditok\n",
            "Successfully installed huggingface_hub-0.16.4 miditok-2.1.5 miditoolkit-0.1.16 mido-1.3.0 tokenizers-0.14.0\n"
          ]
        }
      ],
      "source": [
        "!pip install miditok"
      ]
    },
    {
      "cell_type": "markdown",
      "metadata": {
        "id": "6B5ITSJzOetQ"
      },
      "source": [
        "# **Import Dependencies**"
      ]
    },
    {
      "cell_type": "code",
      "execution_count": null,
      "metadata": {
        "id": "rwmWh0KPNvkb"
      },
      "outputs": [],
      "source": [
        "import torch\n",
        "import torch.nn as nn\n",
        "import numpy as np\n",
        "import torch.nn.functional as F\n",
        "import torch\n",
        "import numpy as np\n",
        "import pandas as pd\n",
        "import torch.nn as nn\n",
        "import torch.nn.functional as F\n",
        "from miditok import REMIPlus\n",
        "from miditok.utils import get_midi_programs\n",
        "from miditoolkit import MidiFile\n",
        "import matplotlib.pyplot as plt\n",
        "from IPython.display import clear_output, display, HTML\n",
        "from IPython.core import display as ipydisplay\n",
        "from collections import OrderedDict\n",
        "import time\n",
        "import gc\n",
        "from tqdm import tqdm\n",
        "import copy\n",
        "from collections import defaultdict\n",
        "import os\n",
        "import logging\n",
        "import pickle\n",
        "import datetime\n",
        "import json\n",
        "import gc\n",
        "import random"
      ]
    },
    {
      "cell_type": "markdown",
      "metadata": {
        "id": "JU0BIBEbjvrO",
        "tags": []
      },
      "source": [
        "# **Utils**"
      ]
    },
    {
      "cell_type": "markdown",
      "source": [
        "---\n",
        "## **Function**: `train_one_epoch`\n",
        "---\n",
        "\n",
        "**Description**:\n",
        "Trains the model for one epoch and optionally performs evaluation at specified intervals. Keeps track of training and validation losses and saves model checkpoints.\n",
        "\n",
        "**Parameters**:\n",
        "- `model` (nn.Module): The model to be trained.\n",
        "- `optimizer` (Optimizer): Optimizer for updating model weights.\n",
        "- `dataloader` (DataLoader): DataLoader object for training data.\n",
        "- `device` (torch.device): Device to move data to (e.g., cuda, cpu).\n",
        "- `epoch` (int): Current training epoch.\n",
        "- `parameters` (dict): Additional parameters like learning rate, etc.\n",
        "- `eval_interval` (int): Interval at which to perform evaluation and save model checkpoints.\n",
        "- `eval_dataloader` (DataLoader, optional): DataLoader object for evaluation data.\n",
        "\n",
        "**Returns**:\n",
        "- `float`: The average loss for the epoch."
      ],
      "metadata": {
        "id": "W_UetB8xYmUI"
      }
    },
    {
      "cell_type": "code",
      "source": [
        "def train_one_epoch(model, optimizer, dataloader, device, epoch, parameters, eval_interval, eval_dataloader=None):\n",
        "    model.train()\n",
        "\n",
        "    dataset_size = 0\n",
        "    running_loss = 0.0\n",
        "\n",
        "    train_losses = []\n",
        "    val_losses = []\n",
        "\n",
        "    bar = tqdm(enumerate(dataloader), total=len(dataloader))\n",
        "    for step, data in bar:\n",
        "        x = data['x'].to(device)\n",
        "        y = data['y'].to(device)\n",
        "\n",
        "        batch_size = x.size(0)\n",
        "\n",
        "        logits,loss = model.forward(x,y)\n",
        "\n",
        "        if loss.numel() > 1:\n",
        "            loss = loss.mean()\n",
        "\n",
        "        loss.backward()\n",
        "        optimizer.step()\n",
        "        optimizer.zero_grad()\n",
        "\n",
        "        running_loss += loss.item()\n",
        "        dataset_size += batch_size\n",
        "\n",
        "        epoch_loss = running_loss / dataset_size\n",
        "\n",
        "        bar.set_postfix(Epoch=epoch, Train_Loss=epoch_loss, LR=optimizer.param_groups[0]['lr'])\n",
        "        if step % eval_interval == 0:\n",
        "            train_losses.append(epoch_loss)\n",
        "            val_losses.append(epoch_loss)\n",
        "\n",
        "            plot_and_save(step, train_losses, val_losses, FILE_NAME, parameters, EMBED_DIM, TRANSFORMER_HEADS, TRANSFORMER_LAYERS)\n",
        "\n",
        "            # Save the model after evaluation\n",
        "            model_save_name = f\"{FILE_NAME}_e_{epoch}_s_{step}.pt\"\n",
        "            torch.save(model.state_dict(), os.path.join(MODEL_DIR, model_save_name))\n",
        "    gc.collect()\n",
        "    return epoch_loss"
      ],
      "metadata": {
        "id": "p0aFEVrTWrzv"
      },
      "execution_count": null,
      "outputs": []
    },
    {
      "cell_type": "markdown",
      "source": [
        "---\n",
        "## **Function**: `valid_one_epoch`\n",
        "---\n",
        "\n",
        "**Description**:\n",
        "Validates the model for one epoch. Optionally, can run without tqdm progress bar for evaluation purposes.\n",
        "\n",
        "**Parameters**:\n",
        "- `model` (nn.Module): The model to be validated.\n",
        "- `optimizer` (Optimizer): Optimizer for updating model weights (used for learning rate display).\n",
        "- `dataloader` (DataLoader): DataLoader object for validation data.\n",
        "- `device` (torch.device): Device to move data to (e.g., cuda, cpu).\n",
        "- `epoch` (int): Current validation epoch.\n",
        "- `evaluation` (bool, optional): Flag to disable tqdm progress bar.\n",
        "\n",
        "**Returns**:\n",
        "- `float`: The average loss for the epoch on validation data."
      ],
      "metadata": {
        "id": "Y5ufYGZiY1H_"
      }
    },
    {
      "cell_type": "code",
      "execution_count": null,
      "metadata": {
        "id": "D15UF_pRjvGn"
      },
      "outputs": [],
      "source": [
        "def valid_one_epoch(model, optimizer, dataloader, device, epoch, evaluation=False):\n",
        "    model.eval()\n",
        "\n",
        "    dataset_size = 0\n",
        "    running_loss = 0.0\n",
        "\n",
        "    if not evaluation:\n",
        "        bar = tqdm(enumerate(dataloader), total=len(dataloader))\n",
        "    else:\n",
        "        bar = enumerate(dataloader)\n",
        "    epoch_loss = 0\n",
        "    with torch.no_grad():\n",
        "        for step, data in bar:\n",
        "            x = data['x'].to(device)\n",
        "            y = data['y'].to(device)\n",
        "\n",
        "            batch_size = x.size(0)\n",
        "\n",
        "            logits, loss = model.forward(x, y)\n",
        "\n",
        "            running_loss += loss.item()\n",
        "            dataset_size += batch_size\n",
        "\n",
        "            epoch_loss = running_loss / dataset_size\n",
        "\n",
        "            if not evaluation:\n",
        "                bar.set_postfix(Epoch=epoch, Val_Loss=epoch_loss,\n",
        "                                LR=optimizer.param_groups[0]['lr'])\n",
        "    return epoch_loss"
      ]
    },
    {
      "cell_type": "markdown",
      "metadata": {
        "id": "9GnTNAMWkvac"
      },
      "source": [
        "# **MidiDataset**"
      ]
    },
    {
      "cell_type": "markdown",
      "source": [
        "---\n",
        "## **Class**: `MidiDataset`\n",
        "---\n",
        "\n",
        "**Description**:\n",
        "Dataset class that loads MIDI files into tensors to create the dataset\n",
        "\n",
        "**Methods**:\n",
        "- `__init__(self, df)`: Initializes the MidiDataset.\n",
        "  - `df` (DataFrame): DataFrame containing file names and other metadata.\n",
        "- `__len__(self)`: Returns the length of the dataset.\n",
        "- `__getitem__(self, idx)`: Gets the item at a specific index.\n",
        "  - `idx` (int): The global index to retrieve.\n",
        "\n",
        "**Returns for `__getitem__`**:\n",
        "- `dict`: A dictionary containing the following key-value pairs:\n",
        "  - `\"x\"`: The input tensor (shape `[SEQ_LEN, *]`).\n",
        "  - `\"y\"`: The target tensor (shape `[SEQ_LEN, *]`)."
      ],
      "metadata": {
        "id": "7UBqE04vZAtz"
      }
    },
    {
      "cell_type": "code",
      "execution_count": null,
      "metadata": {
        "id": "2zSvL_mikz4M"
      },
      "outputs": [],
      "source": [
        "class MidiDataset(torch.utils.data.Dataset):\n",
        "    def __init__(self, df):\n",
        "        self.df = df\n",
        "        self.indices = {}\n",
        "\n",
        "        globalIndex = 0\n",
        "        for fileIndex, row in df.iterrows():\n",
        "            fname = ENCODING_DIR + \"/\" + row[\"fname\"]\n",
        "            if not os.path.exists(fname):\n",
        "                continue\n",
        "            with open(fname, 'rb') as f:\n",
        "                nparray = np.load(f)\n",
        "            for arrayIndex in range(nparray.shape[0] - SEQ_LEN):\n",
        "                self.indices[globalIndex] = {\n",
        "                    'file': fname,\n",
        "                    'arrayIndex': arrayIndex\n",
        "                }\n",
        "                globalIndex += 1\n",
        "\n",
        "    def __len__(self):\n",
        "        return len(self.indices)\n",
        "\n",
        "    def __getitem__(self, idx):\n",
        "        fname = self.indices[idx]['file']\n",
        "        arrayIndex = self.indices[idx]['arrayIndex']\n",
        "        with open(fname, 'rb') as f:\n",
        "            nparray = np.load(f)\n",
        "        x = nparray[arrayIndex:arrayIndex+SEQ_LEN]\n",
        "        y = nparray[arrayIndex+1:arrayIndex+SEQ_LEN+1]\n",
        "\n",
        "        x = torch.tensor(x, dtype=torch.long)\n",
        "        y = torch.tensor(y, dtype=torch.long)\n",
        "        return {\"x\": x, \"y\": y}"
      ]
    },
    {
      "cell_type": "markdown",
      "metadata": {
        "id": "ADRxeaQ9OUlm",
        "tags": []
      },
      "source": [
        "# **Transformer Model**"
      ]
    },
    {
      "cell_type": "markdown",
      "source": [
        "---\n",
        "## **Class**: `AttentionHead`\n",
        "---\n",
        "\n",
        "**Description**:\n",
        "Single head of the self-attention mechanism in Transformer model. Part of multi-head attention.\n",
        "\n",
        "**Methods**:\n",
        "- `__init__(self, head_size, num_embed, block_size)`: Initializes the AttentionHead module.\n",
        "  - `head_size` (int): The dimension of each attention head.\n",
        "  - `num_embed` (int): The dimension of the input embeddings.\n",
        "  - `block_size` (int): The block size of the input sequence (maximum sequence length).\n",
        "- `forward(self, x)`: Performs the forward pass.\n",
        "  - `x` (Tensor): Input tensor of shape `(B, T, C)`.\n",
        "\n",
        "**Returns for `forward`**:\n",
        "- `Tensor`: The output tensor of shape `(B, T, C)`.\n"
      ],
      "metadata": {
        "id": "kWScpwIWZfCG"
      }
    },
    {
      "cell_type": "code",
      "source": [
        "class AttentionHead(nn.Module):\n",
        "    def __init__(self, head_size, num_embed, block_size):\n",
        "        super().__init__()\n",
        "\n",
        "        self.key = nn.Linear(num_embed, head_size, bias=False)\n",
        "        self.query = nn.Linear(num_embed, head_size, bias=False)\n",
        "        self.value = nn.Linear(num_embed, head_size, bias=False)\n",
        "        # tril is a lower triangular matrix. it is not a parameter\n",
        "        # of the model, so we assign it to the module using register_buffer\n",
        "        self.register_buffer(\"tril\", torch.tril(torch.ones(block_size, block_size)))\n",
        "\n",
        "    def forward(self, x):\n",
        "        B, T, C = x.shape\n",
        "        k = self.key(x)\n",
        "        q = self.query(x)\n",
        "        # compute attention scores\n",
        "        # (B, T, C) @ (B, C, T) -> (B, T, T)\n",
        "        # we need to transpose k to match q\n",
        "        wei = q @ k.transpose(-2, -1) * C**-0.5\n",
        "        # Tril matrix (lower triagular matrix) is used to mask\n",
        "        # future positions (setting them to -inf) so that the\n",
        "        # decoder \"learns\" to predict next words\n",
        "        wei = wei.masked_fill(self.tril[:T, :T] == 0, float(\"-inf\"))  # (B,T,T)\n",
        "        wei = F.softmax(wei, dim=-1)  # (B,T,T)\n",
        "        # weighted aggregation of the values\n",
        "        v = self.value(x)\n",
        "        out = wei @ v  # (B,T,T) @ (B,T,C) ---> (B,T,C)\n",
        "        return out"
      ],
      "metadata": {
        "id": "Q5V_kpbuWzOi"
      },
      "execution_count": null,
      "outputs": []
    },
    {
      "cell_type": "markdown",
      "source": [],
      "metadata": {
        "id": "PoDFGiEOZ0nw"
      }
    },
    {
      "cell_type": "markdown",
      "source": [
        "---\n",
        "## **Class**: `MultiHeadAttention`\n",
        "---\n",
        "\n",
        "**Description**:\n",
        "Multi-head self-attention mechanism in Transformer model. Combines multiple `AttentionHead` modules in parallel and applies a linear projection.\n",
        "\n",
        "**Attributes**:\n",
        "- `heads`: A list of `AttentionHead` modules.\n",
        "- `proj`: Linear layer for projecting the concatenated attention head outputs back to the input dimension.\n",
        "\n",
        "**Methods**:\n",
        "- `__init__(self, num_heads, head_size, num_embed, block_size)`: Initializes the MultiHeadAttention module.\n",
        "  - `num_heads` (int): The number of attention heads.\n",
        "  - `head_size` (int): The dimension of each attention head.\n",
        "  - `num_embed` (int): The dimension of the input embeddings.\n",
        "  - `block_size` (int): The block size of the input sequence (maximum sequence length).\n",
        "- `forward(self, x)`: Performs the forward pass.\n",
        "  - `x` (Tensor): Input tensor of shape `(B, T, C)`.\n",
        "\n",
        "**Returns for `forward`**:\n",
        "- `Tensor`: The output tensor of shape `(B, T, C)`."
      ],
      "metadata": {
        "id": "TmqMGHyYZ4io"
      }
    },
    {
      "cell_type": "code",
      "source": [
        "class MultiHeadAttention(nn.Module):\n",
        "\n",
        "    def __init__(self, num_heads, head_size, num_embed, block_size):\n",
        "        super().__init__()\n",
        "        self.heads = nn.ModuleList(\n",
        "            [\n",
        "                AttentionHead(\n",
        "                    head_size=head_size,\n",
        "                    num_embed=num_embed,\n",
        "                    block_size=block_size,\n",
        "                )\n",
        "                for _ in range(num_heads)\n",
        "            ]\n",
        "        )\n",
        "        self.proj = nn.Linear(num_embed, num_embed)\n",
        "\n",
        "    def forward(self, x):\n",
        "        # output of the self-attention\n",
        "\n",
        "        out = torch.cat([h(x) for h in self.heads], dim=-1)\n",
        "         # (B, T, num_heads * head_size)\n",
        "        # apply the linear projection layer\n",
        "        out = self.proj(out)\n",
        "        # (B, T, num_embed)\n",
        "        return out"
      ],
      "metadata": {
        "id": "EZMwx6_zW2KD"
      },
      "execution_count": null,
      "outputs": []
    },
    {
      "cell_type": "markdown",
      "source": [
        "---\n",
        "## **Class**: `FeedForward`\n",
        "---\n",
        "\n",
        "**Description**:\n",
        "Feed-forward neural network layer. Linear transformation followed by a ReLU activation then additional linear layer.\n",
        "\n",
        "**Methods**:\n",
        "- `__init__(self, num_embed)`: Initializes the FeedForward module.\n",
        "  - `num_embed` (int): The dimension of the input embeddings.\n",
        "- `forward(self, x)`: Performs the forward pass.\n",
        "  - `x` (Tensor): Input tensor of shape `(B, T, C)`.\n",
        "\n",
        "**Returns for `forward`**:\n",
        "- `Tensor`: The output tensor of shape `(B, T, C)`."
      ],
      "metadata": {
        "id": "x9trQDwiaNT6"
      }
    },
    {
      "cell_type": "code",
      "source": [
        "class FeedForward(nn.Module):\n",
        "    def __init__(self, num_embed):\n",
        "        super().__init__()\n",
        "        self.net = nn.Sequential(\n",
        "            nn.Linear(num_embed, 4 * num_embed),\n",
        "            nn.ReLU(),\n",
        "\n",
        "            nn.Linear(4 * num_embed, num_embed),\n",
        "        )\n",
        "\n",
        "    def forward(self, x):\n",
        "        return self.net(x)"
      ],
      "metadata": {
        "id": "pTu6xs48W4Ec"
      },
      "execution_count": null,
      "outputs": []
    },
    {
      "cell_type": "markdown",
      "source": [
        "---\n",
        "## **Class**: `TransformerBlock`\n",
        "---\n",
        "\n",
        "**Description**:\n",
        "Single block in a Transformer model.\n",
        "\n",
        "**Methods**:\n",
        "- `__init__(self, num_heads, block_size, num_embed)`: Initializes the TransformerBlock.\n",
        "  - `num_heads` (int): The number of attention heads.\n",
        "  - `block_size` (int): The block size of the input sequence.\n",
        "  - `num_embed` (int): The dimension of the input embeddings.\n",
        "- `forward(self, x)`: Performs the forward pass.\n",
        "  - `x` (Tensor): Input tensor of shape `(B, T, C)`.\n"
      ],
      "metadata": {
        "id": "9NC0ZbKpakDl"
      }
    },
    {
      "cell_type": "code",
      "source": [
        "class TransformerBlock(nn.Module):\n",
        "\n",
        "    def __init__(self, num_heads, block_size, num_embed):\n",
        "        super().__init__()\n",
        "        head_size = num_embed // num_heads\n",
        "        self.sa = MultiHeadAttention(\n",
        "            num_heads=num_heads,\n",
        "            head_size=head_size,\n",
        "            num_embed=num_embed,\n",
        "            block_size=block_size,\n",
        "        )\n",
        "        self.ffwd = FeedForward(num_embed=num_embed)\n",
        "        # add the layer normalization\n",
        "        self.ln1 = nn.LayerNorm(num_embed)\n",
        "        self.ln2 = nn.LayerNorm(num_embed)\n",
        "\n",
        "    def forward(self, x):\n",
        "\n",
        "        x = x + self.sa(self.ln1(x))\n",
        "        x = x + self.ffwd(self.ln2(x))\n",
        "        return x"
      ],
      "metadata": {
        "id": "H8Pf0CV2W6HF"
      },
      "execution_count": null,
      "outputs": []
    },
    {
      "cell_type": "markdown",
      "source": [
        "---\n",
        "## **Class**: `Transformer`\n",
        "---\n",
        "\n",
        "**Description**:\n",
        "Comprises multiple `TransformerBlock` units, token and position embeddings, and a linear output layer for language modeling.\n",
        "\n",
        "**Methods**:\n",
        "- `__init__(self, **kwargs)`: Initializes the Transformer model with optional keyword arguments.\n",
        "- `forward(self, idx, targets=None)`: Performs the forward pass and optionally computes the loss.\n",
        "  - `idx` (Tensor): Input token indices. Shape `(B, T)`.\n",
        "  - `targets` (Tensor, optional): Ground truth token indices. Used for loss computation.\n",
        "- `generate(self, idx, max_new_tokens, block_size)`: Generates a sequence given an input context.\n",
        "  - `idx` (Tensor): Input token indices. Shape `(B, T)`.\n",
        "  - `max_new_tokens` (int): Maximum number of new tokens to generate.\n",
        "  - `block_size` (int): Length of the block to consider for generation.\n",
        "\n",
        "**Returns for `forward`**:\n",
        "- `Tuple`: Consists of `logits` (Tensor) and `loss` (float or None).\n",
        "\n",
        "**Returns for `generate`**:\n",
        "- `Tensor`: Generated sequence of tokens."
      ],
      "metadata": {
        "id": "pfSdQfS8bItV"
      }
    },
    {
      "cell_type": "code",
      "execution_count": null,
      "metadata": {
        "id": "2P-C9eWRj6nQ"
      },
      "outputs": [],
      "source": [
        "\n",
        "class Transformer(nn.Module):\n",
        "    def __init__(self, **kwargs):\n",
        "        super().__init__()\n",
        "\n",
        "        self.vocab_size = kwargs.get(\"vocab_size\", 100)\n",
        "        self.num_embed = kwargs.get(\"num_embed\", 32)\n",
        "        self.block_size = kwargs.get(\"block_size\", 8)\n",
        "        self.num_heads = kwargs.get(\"num_heads\", 4)\n",
        "        self.num_layers = kwargs.get(\"num_layers\", 4)\n",
        "        # each token reads the logits for the next token from a lookup table\n",
        "        self.token_embedding_table = nn.Embedding(self.vocab_size, self.num_embed)\n",
        "        # each position from 0 to block_size-1 will get its embedding\n",
        "        self.position_embedding_table = nn.Embedding(self.block_size, self.num_embed)\n",
        "        self.blocks = nn.Sequential(\n",
        "            *[\n",
        "                TransformerBlock(\n",
        "                    num_heads=self.num_heads,\n",
        "                    block_size=self.block_size,\n",
        "                    num_embed=self.num_embed,\n",
        "                )\n",
        "                for _ in range(self.num_layers)\n",
        "            ]\n",
        "        )\n",
        "        # we add the layer norm before the Linear layer\n",
        "        self.ln_f = nn.LayerNorm(self.num_embed)\n",
        "        self.lm_head = nn.Linear(self.num_embed, self.vocab_size)\n",
        "\n",
        "    def forward(self, idx, targets=None):\n",
        "        B, T = idx.shape\n",
        "        # idx and targets are (B,T) tensor of integers\n",
        "        # the token_emb is (B, T, C), C = NUM_EMBED\n",
        "        token_emb = self.token_embedding_table(idx)\n",
        "        # (T, C)\n",
        "        posit_emb = self.position_embedding_table(torch.arange(T, device=DEVICE))\n",
        "\n",
        "        x = token_emb + posit_emb\n",
        "        # apply one head of self-attention\n",
        "        x = self.blocks(x)\n",
        "        # (B, T, vocab_size)\n",
        "        logits = self.lm_head(x)\n",
        "        # compute the loss\n",
        "        if targets != None:\n",
        "\n",
        "            B, T, C = logits.shape\n",
        "            logits = torch.reshape(logits, (B * T, C))\n",
        "            targets = torch.reshape(targets, (B * T,))\n",
        "            loss = F.cross_entropy(logits, targets)\n",
        "        else:\n",
        "            loss = None\n",
        "        return logits, loss\n",
        "\n",
        "    def generate(self, idx: torch.Tensor, max_new_tokens: int, block_size: int):\n",
        "        # idx is (B, T) array of indices in the current context\n",
        "        for _ in range(max_new_tokens):\n",
        "            # crop the context too the  last block_size tokens\n",
        "            # because tokens don't communicate between blocks\n",
        "            idx_crop = idx[:, -block_size:]\n",
        "            # get the predictions\n",
        "            logits, loss = self.forward(idx_crop)\n",
        "            # focus only on the last time step\n",
        "            logits = logits[:, -1, :]  # becomes (B, C)\n",
        "            # apply softmax to get probabilities\n",
        "            probs = F.softmax(logits, dim=-1)  # (B, C)\n",
        "            # sample from the distribution with probabilities probs\n",
        "            idx_next = torch.multinomial(probs, num_samples=1)  # (B, 1)\n",
        "            # append sampled index to the running sequence\n",
        "            idx = torch.cat((idx, idx_next), dim=1)  # (B, T+1)\n",
        "        return idx"
      ]
    },
    {
      "cell_type": "markdown",
      "metadata": {
        "id": "XdGU3t3Skjp2"
      },
      "source": [
        "# **Train**"
      ]
    },
    {
      "cell_type": "markdown",
      "source": [
        "---\n",
        "## **Function**: `save_training_info`\n",
        "---\n",
        "\n",
        "**Description**:\n",
        "Saves the training and validation loss information along with hyperparameters and model details into a text file."
      ],
      "metadata": {
        "id": "9I-IpABjbwIq"
      }
    },
    {
      "cell_type": "code",
      "source": [
        "def save_training_info(train_losses, val_losses, text_file_name, learning_rate, dropout):\n",
        "    text_file_name = text_file_name + \".txt\"\n",
        "    with open(f'data_plots/{text_file_name}', 'w') as f:\n",
        "        f.write(\"Model Information:\\n\")\n",
        "        f.write(\"===================\\n\")\n",
        "        f.write(f\"File Name: {text_file_name}\\n\")\n",
        "        f.write(f\"Batch Size: {BATCH_SIZE}\\n\")\n",
        "        f.write(f\"Block Size: {SEQ_LEN}\\n\")\n",
        "        f.write(f\"Max Iterations: {0}\\n\")\n",
        "        f.write(f\"Learning Rate: {LR}\\n\")\n",
        "        f.write(f\"Device: {DEVICE}\\n\")\n",
        "        f.write(f\"Embedding Dimension: {EMBED_DIM}\\n\")\n",
        "        f.write(f\"Number of Attention Heads: {TRANSFORMER_HEADS}\\n\")\n",
        "        f.write(f\"Number of Layers: {TRANSFORMER_LAYERS}\\n\")\n",
        "        f.write(f\"Dropout Rate: {dropout}\\n\")\n",
        "        f.write(\"\\nPlot Information:\\n\")\n",
        "        f.write(\"==================\\n\")\n",
        "        for iter_num, (train_loss, val_loss) in enumerate(zip(train_losses, val_losses)):\n",
        "            f.write(f\"Iteration {iter_num * EVAL_INTERVAL}: Train Loss = {train_loss:.4f}, Validation Loss = {val_loss:.4f}\\n\")"
      ],
      "metadata": {
        "id": "vJHI70Lobm17"
      },
      "execution_count": null,
      "outputs": []
    },
    {
      "cell_type": "markdown",
      "source": [
        "---\n",
        "## **Function**: `plot_and_save`\n",
        "---\n",
        "\n",
        "**Description**:\n",
        "Plots and saves the real-time loss values during the training and validation processes. Also displays other relevant information like current iteration, hyperparameters, and architecture details.\n"
      ],
      "metadata": {
        "id": "IjLkxLcRb5Xq"
      }
    },
    {
      "cell_type": "code",
      "execution_count": null,
      "metadata": {
        "id": "kDCrQWU2uvK6"
      },
      "outputs": [],
      "source": [
        "def plot_and_save(i, train_losses, val_losses, data_file_name, parameters, n_embd, n_head, n_layer):\n",
        "    # Clear previous plots and information\n",
        "    clear_output(wait=True)\n",
        "\n",
        "    display(HTML(f\"<b>Iteration {i}</b>:<br>Train Loss: {train_losses[-1]:.4f}<br>Validation Loss: {val_losses[-1]:.4f}<br>Parameters: {parameters}<br>n_embd: {n_embd}<br>n_layer: {n_head}<br>n_layer: {n_layer}\"))\n",
        "\n",
        "    # Define the figure and axis\n",
        "    plt.figure(figsize=(10, 6))\n",
        "    plt.cla()  # Clear the current axes\n",
        "\n",
        "    # Plot the losses with adjusted styles\n",
        "    plt.plot(train_losses, label=\"Training Loss\", color='blue', linewidth=2)\n",
        "    plt.plot(val_losses, label=\"Validation Loss\", color='red', linestyle='--', linewidth=2)\n",
        "\n",
        "    # Set labels, title, legend, and grid\n",
        "    plt.xlabel(\"Evaluation Interval\", fontsize=14)\n",
        "    plt.ylabel(\"Loss\", fontsize=14)\n",
        "    plt.title(\"Real-time Loss Plot\", fontsize=16)\n",
        "    plt.legend(fontsize=12)\n",
        "    plt.grid(True, which='both', linestyle='--', linewidth=0.5)\n",
        "\n",
        "    # Adjust the layout\n",
        "    plt.tight_layout()\n",
        "\n",
        "    # Save the plot\n",
        "    if not os.path.exists('data_plots'):\n",
        "        os.mkdir('data_plots')\n",
        "    plt.savefig(f'data_plots/{data_file_name}.png')\n",
        "\n",
        "    # Display the plot\n",
        "    plt.show()\n",
        "\n",
        "    # Close the figure\n",
        "    plt.close()"
      ]
    },
    {
      "cell_type": "markdown",
      "metadata": {
        "id": "az_wkNUMzjt0"
      },
      "source": [
        "---\n",
        "## **Function**: `train`\n",
        "---\n",
        "\n",
        "**Description**:\n",
        "Trains Transformer model on MIDI data. Sets up logging, loads data, pre-processes it, and carries out the training and validation steps across multiple epochs.\n"
      ]
    },
    {
      "cell_type": "code",
      "execution_count": null,
      "metadata": {
        "id": "BszQqzTlklET"
      },
      "outputs": [],
      "source": [
        "def train():\n",
        "    NOW = datetime.datetime.now().strftime('%Y-%m-%d_%H:%M')\n",
        "    # Prepping directories\n",
        "    os.makedirs(MODEL_DIR, exist_ok=True)\n",
        "    os.makedirs(LOG_DIR, exist_ok=True)\n",
        "    logging.basicConfig(\n",
        "        level=logging.DEBUG,  # Set the logging level to DEBUG (adjust as needed)\n",
        "        format='%(asctime)s - %(levelname)s - %(message)s',  # Define log message format\n",
        "        filename=LOG_DIR+'/app_{}.log'.format(SUFFIX),  # Specify log file name\n",
        "        filemode='w'  # Set file mode to write (overwrite if file exists)\n",
        "    )\n",
        "    logging.info(\"loading files...\")\n",
        "    print(\"loading files...\")\n",
        "\n",
        "    with open(ENCODING_DIR+\"/tokenizer.json\", 'rb') as file:\n",
        "        tokenizer = json.load(file)\n",
        "\n",
        "    df = pd.read_csv(ENCODING_DIR+'/df.csv')\n",
        "    logging.info(\"dataset size: {}\".format(df.shape[0]))\n",
        "    print(\"dataset size: {}\".format(df.shape[0]))\n",
        "\n",
        "    # Data preparation\n",
        "    train_df = df.loc[:int(len(df)*TRAIN_TEST_RATIO), :]\n",
        "    val_df = df.loc[int(len(df)*TRAIN_TEST_RATIO):, :]\n",
        "\n",
        "    # Make sure preload directory exists\n",
        "    if not os.path.exists(\"./preload\"):\n",
        "        os.mkdir(\"./preload\")\n",
        "\n",
        "    # Check if train pickle file exists\n",
        "    pickle_path = \"./preload/train_df.pkl\"\n",
        "    if os.path.exists(pickle_path):\n",
        "        print('Preloading Dataset Indices')\n",
        "        with open(pickle_path, 'rb') as f:\n",
        "            train_df = pickle.load(f)\n",
        "        return\n",
        "    else:\n",
        "        train_data = MidiDataset(train_df)\n",
        "        with open(pickle_path, 'wb') as f:\n",
        "            pickle.dump(train_data, f)\n",
        "\n",
        "    gc.collect()\n",
        "\n",
        "    # Check if train pickle file exists\n",
        "    pickle_path = \"./preload/val_df.pkl\"\n",
        "    if os.path.exists(pickle_path):\n",
        "        print('Preloading Dataset Indices')\n",
        "        with open(pickle_path, 'rb') as f:\n",
        "            eval_data = pickle.load(f)\n",
        "        return\n",
        "    else:\n",
        "        eval_data = MidiDataset(val_df)\n",
        "        with open(pickle_path, 'wb') as f:\n",
        "            pickle.dump(eval_data, f)\n",
        "\n",
        "    gc.collect()\n",
        "\n",
        "    train_dataloader = torch.utils.data.DataLoader(train_data, batch_size=BATCH_SIZE, shuffle=True)\n",
        "    eval_dataloader = torch.utils.data.DataLoader(eval_data, batch_size=BATCH_SIZE, shuffle=False)\n",
        "\n",
        "    model = Transformer(vocab_size=VOCAB_SIZE,\n",
        "                        num_embed=EMBED_DIM,\n",
        "                        block_size=SEQ_LEN,\n",
        "                        num_heads=TRANSFORMER_HEADS,\n",
        "                        num_layers=TRANSFORMER_LAYERS)\n",
        "\n",
        "    num_gpus = torch.cuda.device_count()\n",
        "    if num_gpus > 1:\n",
        "        model = nn.DataParallel(model)\n",
        "\n",
        "    model.to(DEVICE)\n",
        "    param_optimizer = model.parameters()\n",
        "    optimizer = torch.optim.AdamW(param_optimizer, lr=LR)\n",
        "    parameters = sum(p.numel() for p in model.parameters())/1e6\n",
        "\n",
        "    start = time.time()\n",
        "    best_model_wts = copy.deepcopy(model.state_dict())\n",
        "    best_epoch_loss = np.inf\n",
        "    history = defaultdict(list)\n",
        "\n",
        "    for epoch in range(1, EPOCHS+1):\n",
        "        gc.collect()\n",
        "\n",
        "        train_loss = train_one_epoch(model, optimizer, train_dataloader, DEVICE, epoch, parameters, eval_interval=EVAL_INTERVAL, eval_dataloader=eval_dataloader)\n",
        "        history[\"TrainLoss\"].append(train_loss)\n",
        "\n",
        "        val_loss = valid_one_epoch(model, optimizer, eval_dataloader, DEVICE, epoch)\n",
        "        history[\"ValLoss\"].append(val_loss)\n",
        "\n",
        "        logging.debug(\"Epoch: {} TL: {} VL: {}\".format(epoch, train_loss, val_loss))\n",
        "        if val_loss < best_epoch_loss:\n",
        "            logging.debug(f\"Validation Loss Improved ({best_epoch_loss} ---> {val_loss})\")\n",
        "            best_epoch_loss = val_loss\n",
        "            best_model_wts = copy.deepcopy(model.state_dict())\n",
        "\n",
        "            PATH = f\"{FILE_NAME}.pt\"\n",
        "            torch.save(model.state_dict(), os.path.join(MODEL_DIR, PATH))\n",
        "            logging.debug(\"Model Saved\")\n",
        "\n",
        "    end = time.time()\n",
        "    time_elapsed = end - start\n",
        "\n",
        "    logging.debug('Training complete in {:.0f}h {:.0f}m {:.0f}s'.format(\n",
        "        time_elapsed // 3600, (time_elapsed % 3600) // 60, (time_elapsed % 3600) % 60))\n",
        "    logging.debug(\"Best Loss: {:.4f}\".format(best_epoch_loss))\n",
        "\n",
        "    PATH = f\"lst_{FILE_NAME}.pt\"\n",
        "    torch.save(model.state_dict(), os.path.join(MODEL_DIR, PATH))"
      ]
    },
    {
      "cell_type": "markdown",
      "metadata": {
        "id": "zJPNP_9dlUpq"
      },
      "source": [
        "\n",
        "# **Train Bench**"
      ]
    },
    {
      "cell_type": "markdown",
      "metadata": {
        "id": "p7hG4JPulkKF"
      },
      "source": [
        "---\n",
        "## **Config**\n",
        "---"
      ]
    },
    {
      "cell_type": "code",
      "execution_count": null,
      "metadata": {
        "id": "cVadC3Erln0H"
      },
      "outputs": [],
      "source": [
        "NOW = datetime.datetime.now().strftime('%Y-%m-%d_%H:%M')\n",
        "DEVICE = 'cuda'\n",
        "EPOCHS = 20\n",
        "BATCH_SIZE = 7000\n",
        "SEQ_LEN = 128\n",
        "VOCAB_SIZE = len(REMIPlus().vocab)\n",
        "LOG_DIR = 'output/logs'\n",
        "TRAIN_TEST_RATIO = 0.9\n",
        "\n",
        "EMBED_DIM = 768\n",
        "TRANSFORMER_HEADS = 8\n",
        "TRANSFORMER_LAYERS = 1\n",
        "LR = 9e-6\n",
        "SUFFIX=\"gameboy002\"\n",
        "\n",
        "EVAL_INTERVAL = 100\n",
        "MODEL_DIR = 'output/model_{}'.format(SUFFIX)\n",
        "ENCODING_DIR = './encoding/gameboy_midi_encode'\n",
        "\n",
        "FILE_PREFIX = 'Gameboy002_'\n",
        "FILE_NAME = FILE_PREFIX + NOW"
      ]
    },
    {
      "cell_type": "markdown",
      "metadata": {
        "id": "lNgcz5fWo9PK"
      },
      "source": [
        "---\n",
        "## **Train Model**\n",
        "---"
      ]
    },
    {
      "cell_type": "code",
      "execution_count": null,
      "metadata": {
        "colab": {
          "base_uri": "https://localhost:8080/",
          "height": 1000
        },
        "id": "rXNNeU5clYqp",
        "outputId": "93421907-78d0-4335-85d2-fd1d7dc2c82b"
      },
      "outputs": [
        {
          "data": {
            "text/html": [
              "<b>Iteration 400</b>:<br>Train Loss: 0.0195<br>Validation Loss: 0.0195<br>Parameters: 8.056695<br>n_embd: 768<br>n_layer: 8<br>n_layer: 1"
            ],
            "text/plain": [
              "<IPython.core.display.HTML object>"
            ]
          },
          "metadata": {},
          "output_type": "display_data"
        },
        {
          "data": {
            "image/png": "[encoded data removed]",
            "text/plain": [
              "<Figure size 720x432 with 1 Axes>"
            ]
          },
          "metadata": {
            "needs_background": "light"
          },
          "output_type": "display_data"
        },
        {
          "name": "stderr",
          "output_type": "stream",
          "text": [
            "  0%|          | 405/1957075 [21:09<1703:49:51,  3.13s/it, Epoch=1, LR=9e-6, Train_Loss=0.0195]\n"
          ]
        },
        {
          "ename": "KeyboardInterrupt",
          "evalue": "",
          "output_type": "error",
          "traceback": [
            "\u001b[0;31m---------------------------------------------------------------------------\u001b[0m",
            "\u001b[0;31mKeyboardInterrupt\u001b[0m                         Traceback (most recent call last)",
            "\u001b[0;32m<ipython-input-9-2da0ffaf5447>\u001b[0m in \u001b[0;36m<module>\u001b[0;34m\u001b[0m\n\u001b[0;32m----> 1\u001b[0;31m \u001b[0mtrain\u001b[0m\u001b[0;34m(\u001b[0m\u001b[0;34m)\u001b[0m\u001b[0;34m\u001b[0m\u001b[0;34m\u001b[0m\u001b[0m\n\u001b[0m",
            "\u001b[0;32m<ipython-input-7-45fda03b7372>\u001b[0m in \u001b[0;36mtrain\u001b[0;34m()\u001b[0m\n\u001b[1;32m     74\u001b[0m         \u001b[0mgc\u001b[0m\u001b[0;34m.\u001b[0m\u001b[0mcollect\u001b[0m\u001b[0;34m(\u001b[0m\u001b[0;34m)\u001b[0m\u001b[0;34m\u001b[0m\u001b[0;34m\u001b[0m\u001b[0m\n\u001b[1;32m     75\u001b[0m \u001b[0;34m\u001b[0m\u001b[0m\n\u001b[0;32m---> 76\u001b[0;31m         \u001b[0mtrain_loss\u001b[0m \u001b[0;34m=\u001b[0m \u001b[0mtrain_one_epoch\u001b[0m\u001b[0;34m(\u001b[0m\u001b[0mmodel\u001b[0m\u001b[0;34m,\u001b[0m \u001b[0moptimizer\u001b[0m\u001b[0;34m,\u001b[0m \u001b[0mtrain_dataloader\u001b[0m\u001b[0;34m,\u001b[0m \u001b[0mDEVICE\u001b[0m\u001b[0;34m,\u001b[0m \u001b[0mepoch\u001b[0m\u001b[0;34m,\u001b[0m \u001b[0mparameters\u001b[0m\u001b[0;34m,\u001b[0m \u001b[0meval_interval\u001b[0m\u001b[0;34m=\u001b[0m\u001b[0mEVAL_INTERVAL\u001b[0m\u001b[0;34m,\u001b[0m \u001b[0meval_dataloader\u001b[0m\u001b[0;34m=\u001b[0m\u001b[0meval_dataloader\u001b[0m\u001b[0;34m)\u001b[0m\u001b[0;34m\u001b[0m\u001b[0;34m\u001b[0m\u001b[0m\n\u001b[0m\u001b[1;32m     77\u001b[0m         \u001b[0mhistory\u001b[0m\u001b[0;34m[\u001b[0m\u001b[0;34m\"TrainLoss\"\u001b[0m\u001b[0;34m]\u001b[0m\u001b[0;34m.\u001b[0m\u001b[0mappend\u001b[0m\u001b[0;34m(\u001b[0m\u001b[0mtrain_loss\u001b[0m\u001b[0;34m)\u001b[0m\u001b[0;34m\u001b[0m\u001b[0;34m\u001b[0m\u001b[0m\n\u001b[1;32m     78\u001b[0m \u001b[0;34m\u001b[0m\u001b[0m\n",
            "\u001b[0;32m<ipython-input-3-4c7c82d394fd>\u001b[0m in \u001b[0;36mtrain_one_epoch\u001b[0;34m(model, optimizer, dataloader, device, epoch, parameters, eval_interval, eval_dataloader)\u001b[0m\n\u001b[1;32m     17\u001b[0m         \u001b[0mlogits\u001b[0m\u001b[0;34m,\u001b[0m\u001b[0mloss\u001b[0m \u001b[0;34m=\u001b[0m \u001b[0mmodel\u001b[0m\u001b[0;34m.\u001b[0m\u001b[0mforward\u001b[0m\u001b[0;34m(\u001b[0m\u001b[0mx\u001b[0m\u001b[0;34m,\u001b[0m\u001b[0my\u001b[0m\u001b[0;34m)\u001b[0m\u001b[0;34m\u001b[0m\u001b[0;34m\u001b[0m\u001b[0m\n\u001b[1;32m     18\u001b[0m \u001b[0;34m\u001b[0m\u001b[0m\n\u001b[0;32m---> 19\u001b[0;31m         \u001b[0mloss\u001b[0m\u001b[0;34m.\u001b[0m\u001b[0mbackward\u001b[0m\u001b[0;34m(\u001b[0m\u001b[0;34m)\u001b[0m\u001b[0;34m\u001b[0m\u001b[0;34m\u001b[0m\u001b[0m\n\u001b[0m\u001b[1;32m     20\u001b[0m         \u001b[0moptimizer\u001b[0m\u001b[0;34m.\u001b[0m\u001b[0mstep\u001b[0m\u001b[0;34m(\u001b[0m\u001b[0;34m)\u001b[0m\u001b[0;34m\u001b[0m\u001b[0;34m\u001b[0m\u001b[0m\n\u001b[1;32m     21\u001b[0m         \u001b[0moptimizer\u001b[0m\u001b[0;34m.\u001b[0m\u001b[0mzero_grad\u001b[0m\u001b[0;34m(\u001b[0m\u001b[0;34m)\u001b[0m\u001b[0;34m\u001b[0m\u001b[0;34m\u001b[0m\u001b[0m\n",
            "\u001b[0;32m/usr/lib/python3/dist-packages/torch/_tensor.py\u001b[0m in \u001b[0;36mbackward\u001b[0;34m(self, gradient, retain_graph, create_graph, inputs)\u001b[0m\n\u001b[1;32m    486\u001b[0m                 \u001b[0minputs\u001b[0m\u001b[0;34m=\u001b[0m\u001b[0minputs\u001b[0m\u001b[0;34m,\u001b[0m\u001b[0;34m\u001b[0m\u001b[0;34m\u001b[0m\u001b[0m\n\u001b[1;32m    487\u001b[0m             )\n\u001b[0;32m--> 488\u001b[0;31m         torch.autograd.backward(\n\u001b[0m\u001b[1;32m    489\u001b[0m             \u001b[0mself\u001b[0m\u001b[0;34m,\u001b[0m \u001b[0mgradient\u001b[0m\u001b[0;34m,\u001b[0m \u001b[0mretain_graph\u001b[0m\u001b[0;34m,\u001b[0m \u001b[0mcreate_graph\u001b[0m\u001b[0;34m,\u001b[0m \u001b[0minputs\u001b[0m\u001b[0;34m=\u001b[0m\u001b[0minputs\u001b[0m\u001b[0;34m\u001b[0m\u001b[0;34m\u001b[0m\u001b[0m\n\u001b[1;32m    490\u001b[0m         )\n",
            "\u001b[0;32m/usr/lib/python3/dist-packages/torch/autograd/__init__.py\u001b[0m in \u001b[0;36mbackward\u001b[0;34m(tensors, grad_tensors, retain_graph, create_graph, grad_variables, inputs)\u001b[0m\n\u001b[1;32m    195\u001b[0m     \u001b[0;31m# some Python versions print out the first line of a multi-line function\u001b[0m\u001b[0;34m\u001b[0m\u001b[0;34m\u001b[0m\u001b[0;34m\u001b[0m\u001b[0m\n\u001b[1;32m    196\u001b[0m     \u001b[0;31m# calls in the traceback and some print out the last line\u001b[0m\u001b[0;34m\u001b[0m\u001b[0;34m\u001b[0m\u001b[0;34m\u001b[0m\u001b[0m\n\u001b[0;32m--> 197\u001b[0;31m     Variable._execution_engine.run_backward(  # Calls into the C++ engine to run the backward pass\n\u001b[0m\u001b[1;32m    198\u001b[0m         \u001b[0mtensors\u001b[0m\u001b[0;34m,\u001b[0m \u001b[0mgrad_tensors_\u001b[0m\u001b[0;34m,\u001b[0m \u001b[0mretain_graph\u001b[0m\u001b[0;34m,\u001b[0m \u001b[0mcreate_graph\u001b[0m\u001b[0;34m,\u001b[0m \u001b[0minputs\u001b[0m\u001b[0;34m,\u001b[0m\u001b[0;34m\u001b[0m\u001b[0;34m\u001b[0m\u001b[0m\n\u001b[1;32m    199\u001b[0m         allow_unreachable=True, accumulate_grad=True)  # Calls into the C++ engine to run the backward pass\n",
            "\u001b[0;31mKeyboardInterrupt\u001b[0m: "
          ]
        }
      ],
      "source": [
        "train()"
      ]
    },
    {
      "cell_type": "markdown",
      "source": [
        "# **Test Bench**"
      ],
      "metadata": {
        "id": "T-hYmPpNdXQo"
      }
    },
    {
      "cell_type": "markdown",
      "metadata": {
        "id": "kVQzxzYao5BB"
      },
      "source": [
        "---\n",
        "## **Load Model**\n",
        "---"
      ]
    },
    {
      "cell_type": "code",
      "execution_count": null,
      "metadata": {
        "id": "dT1MnP9HovFg"
      },
      "outputs": [],
      "source": [
        "def load_model(model_path):\n",
        "    # Load state dictionary from disk\n",
        "    state_dict = torch.load(model_path)\n",
        "\n",
        "    # Create a new state dictionary without the 'module.' prefix\n",
        "    new_state_dict = {k.replace(\"module.\", \"\"): v for k, v in state_dict.items()}\n",
        "\n",
        "    model = Transformer(\n",
        "        vocab_size = VOCAB_SIZE,\n",
        "        num_embed = EMBED_DIM,\n",
        "        block_size = SEQ_LEN,\n",
        "        num_heads = TRANSFORMER_HEADS,\n",
        "        num_layers = TRANSFORMER_LAYERS)\n",
        "\n",
        "    model.load_state_dict(new_state_dict)\n",
        "    model.eval()\n",
        "\n",
        "    return model"
      ]
    },
    {
      "cell_type": "markdown",
      "source": [
        "---\n",
        "## **Create Songs**\n",
        "---"
      ],
      "metadata": {
        "id": "m-zyzaDoc4nu"
      }
    },
    {
      "cell_type": "code",
      "execution_count": null,
      "metadata": {
        "id": "tOvyDSqf1KHM",
        "colab": {
          "base_uri": "https://localhost:8080/"
        },
        "outputId": "6522fc45-a63c-445d-84ee-f386c73b781b"
      },
      "outputs": [
        {
          "output_type": "stream",
          "name": "stdout",
          "text": [
            "tensor([[126, 213, 312,  63, 117, 128, 284,  22, 124, 127, 296,  22, 124, 127,\n",
            "         238,  50, 124, 132, 217, 312,  62, 117, 128, 284,  22, 124, 127, 296,\n",
            "          22, 124, 132, 238,  46, 124, 132,   4, 374, 189, 312,  60, 117, 128,\n",
            "         238,  54, 124, 132, 193, 312,  63, 117, 128, 284,  29, 123, 128, 296,\n",
            "          29, 124, 128, 238,  46, 124, 131, 197]], device='cuda:0')\n",
            "Song gameboy004_test0 has been written.\n",
            "tensor([[126, 213, 312,  63, 117, 128, 284,  22, 124, 127, 296,  22, 124, 127,\n",
            "         238,  50, 124, 132, 217, 312,  62, 117, 128, 284,  22, 124, 127, 296,\n",
            "          22, 124, 132, 238,  46, 124, 132,   4, 374, 189, 312,  60, 117, 128,\n",
            "         238,  54, 124, 132, 193, 312,  63, 117, 128, 284,  29, 123, 128, 296,\n",
            "          29, 124, 128, 238,  46, 124, 131, 197]], device='cuda:0')\n",
            "Song gameboy004_test1 has been written.\n",
            "tensor([[126, 213, 312,  63, 117, 128, 284,  22, 124, 127, 296,  22, 124, 127,\n",
            "         238,  50, 124, 132, 217, 312,  62, 117, 128, 284,  22, 124, 127, 296,\n",
            "          22, 124, 132, 238,  46, 124, 132,   4, 374, 189, 312,  60, 117, 128,\n",
            "         238,  54, 124, 132, 193, 312,  63, 117, 128, 284,  29, 123, 128, 296,\n",
            "          29, 124, 128, 238,  46, 124, 131, 197]], device='cuda:0')\n",
            "Song gameboy004_test2 has been written.\n",
            "tensor([[126, 213, 312,  63, 117, 128, 284,  22, 124, 127, 296,  22, 124, 127,\n",
            "         238,  50, 124, 132, 217, 312,  62, 117, 128, 284,  22, 124, 127, 296,\n",
            "          22, 124, 132, 238,  46, 124, 132,   4, 374, 189, 312,  60, 117, 128,\n",
            "         238,  54, 124, 132, 193, 312,  63, 117, 128, 284,  29, 123, 128, 296,\n",
            "          29, 124, 128, 238,  46, 124, 131, 197]], device='cuda:0')\n",
            "Song gameboy004_test3 has been written.\n",
            "tensor([[126, 213, 312,  63, 117, 128, 284,  22, 124, 127, 296,  22, 124, 127,\n",
            "         238,  50, 124, 132, 217, 312,  62, 117, 128, 284,  22, 124, 127, 296,\n",
            "          22, 124, 132, 238,  46, 124, 132,   4, 374, 189, 312,  60, 117, 128,\n",
            "         238,  54, 124, 132, 193, 312,  63, 117, 128, 284,  29, 123, 128, 296,\n",
            "          29, 124, 128, 238,  46, 124, 131, 197]], device='cuda:0')\n",
            "Song gameboy004_test4 has been written.\n",
            "tensor([[126, 213, 312,  63, 117, 128, 284,  22, 124, 127, 296,  22, 124, 127,\n",
            "         238,  50, 124, 132, 217, 312,  62, 117, 128, 284,  22, 124, 127, 296,\n",
            "          22, 124, 132, 238,  46, 124, 132,   4, 374, 189, 312,  60, 117, 128,\n",
            "         238,  54, 124, 132, 193, 312,  63, 117, 128, 284,  29, 123, 128, 296,\n",
            "          29, 124, 128, 238,  46, 124, 131, 197]], device='cuda:0')\n",
            "Song gameboy004_test5 has been written.\n",
            "tensor([[126, 213, 312,  63, 117, 128, 284,  22, 124, 127, 296,  22, 124, 127,\n",
            "         238,  50, 124, 132, 217, 312,  62, 117, 128, 284,  22, 124, 127, 296,\n",
            "          22, 124, 132, 238,  46, 124, 132,   4, 374, 189, 312,  60, 117, 128,\n",
            "         238,  54, 124, 132, 193, 312,  63, 117, 128, 284,  29, 123, 128, 296,\n",
            "          29, 124, 128, 238,  46, 124, 131, 197]], device='cuda:0')\n",
            "Song gameboy004_test6 has been written.\n",
            "tensor([[126, 213, 312,  63, 117, 128, 284,  22, 124, 127, 296,  22, 124, 127,\n",
            "         238,  50, 124, 132, 217, 312,  62, 117, 128, 284,  22, 124, 127, 296,\n",
            "          22, 124, 132, 238,  46, 124, 132,   4, 374, 189, 312,  60, 117, 128,\n",
            "         238,  54, 124, 132, 193, 312,  63, 117, 128, 284,  29, 123, 128, 296,\n",
            "          29, 124, 128, 238,  46, 124, 131, 197]], device='cuda:0')\n",
            "Song gameboy004_test7 has been written.\n",
            "tensor([[126, 213, 312,  63, 117, 128, 284,  22, 124, 127, 296,  22, 124, 127,\n",
            "         238,  50, 124, 132, 217, 312,  62, 117, 128, 284,  22, 124, 127, 296,\n",
            "          22, 124, 132, 238,  46, 124, 132,   4, 374, 189, 312,  60, 117, 128,\n",
            "         238,  54, 124, 132, 193, 312,  63, 117, 128, 284,  29, 123, 128, 296,\n",
            "          29, 124, 128, 238,  46, 124, 131, 197]], device='cuda:0')\n",
            "Song gameboy004_test8 has been written.\n",
            "tensor([[126, 213, 312,  63, 117, 128, 284,  22, 124, 127, 296,  22, 124, 127,\n",
            "         238,  50, 124, 132, 217, 312,  62, 117, 128, 284,  22, 124, 127, 296,\n",
            "          22, 124, 132, 238,  46, 124, 132,   4, 374, 189, 312,  60, 117, 128,\n",
            "         238,  54, 124, 132, 193, 312,  63, 117, 128, 284,  29, 123, 128, 296,\n",
            "          29, 124, 128, 238,  46, 124, 131, 197]], device='cuda:0')\n",
            "Song gameboy004_test9 has been written.\n"
          ]
        }
      ],
      "source": [
        "song_prefix = 'gameboy001_test'\n",
        "model_name = 'Gameboy002_2023-09-19_04_18_e_8_s_400'\n",
        "context_length = 64\n",
        "song_length = 1024\n",
        "block_size = 64\n",
        "\n",
        "test_set = 0\n",
        "\n",
        "for i in range(10):\n",
        "    model_path = f'output/{model_name}.pt'\n",
        "    torch.manual_seed(random.randint(1, 1_000_000))\n",
        "    model = load_model(model_path).to(DEVICE)\n",
        "\n",
        "    with open('encoding/0_newbarktown.npy', 'rb') as f:\n",
        "        initial_idx = np.load(f)\n",
        "\n",
        "    length = context_length\n",
        "    initial_idx = torch.tensor([initial_idx.tolist()[length:length * 2]]).to(DEVICE)\n",
        "\n",
        "    generated_sequence = model.generate(initial_idx, max_new_tokens=song_length, block_size=block_size).tolist()\n",
        "\n",
        "    song_name = song_prefix + str(i * test_set)\n",
        "\n",
        "    if not os.path.exists('songs'):\n",
        "        os.makedirs('songs')\n",
        "\n",
        "    tokenizer = REMIPlus()\n",
        "    midi = tokenizer.tokens_to_midi(generated_sequence[0][length:])\n",
        "    midi.dump(f'./songs/{song_name}.midi')\n",
        "    print(f'Song {song_name} has been written.')"
      ]
    }
  ],
  "metadata": {
    "accelerator": "GPU",
    "colab": {
      "gpuType": "T4",
      "provenance": [],
      "toc_visible": true
    },
    "kernelspec": {
      "display_name": "Python 3",
      "language": "python",
      "name": "python3"
    },
    "language_info": {
      "codemirror_mode": {
        "name": "ipython",
        "version": 3
      },
      "file_extension": ".py",
      "mimetype": "text/x-python",
      "name": "python",
      "nbconvert_exporter": "python",
      "pygments_lexer": "ipython3",
      "version": "3.8.10"
    }
  },
  "nbformat": 4,
  "nbformat_minor": 0
}